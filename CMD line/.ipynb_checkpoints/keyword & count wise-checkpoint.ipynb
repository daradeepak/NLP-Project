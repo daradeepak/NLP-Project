{
 "cells": [
  {
   "cell_type": "code",
   "execution_count": 5,
   "id": "03c29478",
   "metadata": {},
   "outputs": [
    {
     "name": "stdout",
     "output_type": "stream",
     "text": [
      "Enter keyword or hashtag to search about: h\n",
      "Enter how many tweets you want to analyse:  9\n",
      "How people are reacting on h by analyzing 9 Tweets. \n",
      "Nuetral\n"
     ]
    },
    {
     "data": {
      "image/png": "[encoded data removed]",
      "text/plain": [
       "<Figure size 432x288 with 1 Axes>"
      ]
     },
     "metadata": {},
     "output_type": "display_data"
    }
   ],
   "source": [
    "from textblob import TextBlob\n",
    "import sys, tweepy\n",
    "import matplotlib.pyplot as plt\n",
    "\n",
    "def percentage(part, whole):\n",
    "    return 100*float(part)/float(whole)\n",
    "\n",
    "consumerKey = \"O6YTYHm94J0hkoNPBW75Cr4ii\"\n",
    "consumerSecret = \"Vw2Y0kpQ6jIF6OOidZGV6rYeQwtAwKs8tSQnlkPkdYrz9BQxGB\"\n",
    "accessToken = \"1425732915598565387-GzpuPLH6ldqq0wAS60VxGbNpm3NiAC\"\n",
    "accessTokenSecret = \"KXSxy6pRb0zMNMYpZhdMMYODIbE5TSmYC3Dk1YZdhMWiP\"\n",
    "\n",
    "auth = tweepy.OAuthHandler(consumerKey, consumerSecret)\n",
    "auth.set_access_token(accessToken, accessTokenSecret)\n",
    "\n",
    "api = tweepy.API(auth)\n",
    "\n",
    "searchTerm = input(\"Enter keyword or hashtag to search about: \")\n",
    "\n",
    "noOfSearchTerms = int(input(\"Enter how many tweets you want to analyse:  \"))\n",
    "\n",
    "tweets = tweepy.Cursor(api.search, q=searchTerm).items(noOfSearchTerms)\n",
    "\n",
    "positive = 0\n",
    "negative = 0\n",
    "neutral = 0\n",
    "polarity = 0\n",
    "\n",
    "for tweet in tweets:\n",
    "    #print(tweet.text)\n",
    "    analysis = TextBlob(tweet.text)\n",
    "    polarity += analysis.sentiment.polarity\n",
    "\n",
    "    if(analysis.sentiment.polarity == 0):\n",
    "        neutral += 1\n",
    "\n",
    "    elif(analysis.sentiment.polarity < 0):\n",
    "        negative += 1\n",
    "\n",
    "    elif(analysis.sentiment.polarity > 0):\n",
    "        positive += 1\n",
    "\n",
    "\n",
    "positive = percentage(positive, noOfSearchTerms)\n",
    "negative = percentage(negative, noOfSearchTerms)\n",
    "neutral = percentage(neutral, noOfSearchTerms)\n",
    "polarity = percentage(polarity, noOfSearchTerms)\n",
    "\n",
    "positive = format(positive, '.2f')\n",
    "negative = format(negative, '.2f')\n",
    "neutral = format(neutral, '.2f')\n",
    "\n",
    "\n",
    "print(\"How people are reacting on \"+ searchTerm + \" by analyzing \"+ str(noOfSearchTerms) + \" Tweets. \")\n",
    "\n",
    "if(polarity == 0):\n",
    "    print(\"Nuetral\")\n",
    "\n",
    "elif(polarity > 0.00):\n",
    "    print(\"Positive\")\n",
    "\n",
    "elif(polarity < 0.00):\n",
    "    print(\"Negative\")\n",
    "\n",
    "\n",
    "\n",
    "labels = ['Positive  ['+str(positive)+' %]','Neutral  ['+str(neutral)+' %]','Negative  ['+str(negative)+' %]']\n",
    "\n",
    "sizes = [positive, neutral, negative]\n",
    "\n",
    "colors = ['green', 'yellow', 'red']\n",
    "\n",
    "patches, text = plt.pie(sizes, colors=colors, startangle=90)\n",
    "\n",
    "plt.legend(patches, labels, loc=\"best\")\n",
    "\n",
    "plt.title('How people are reacting on '+ searchTerm + ' by analyzing '+ str(noOfSearchTerms) + ' Tweets. ')\n",
    "\n",
    "plt.axis('equal')\n",
    "\n",
    "plt.tight_layout()\n",
    "\n",
    "plt.show()"
   ]
  },
  {
   "cell_type": "code",
   "execution_count": null,
   "id": "e26601cd",
   "metadata": {},
   "outputs": [],
   "source": []
  },
  {
   "cell_type": "code",
   "execution_count": null,
   "id": "b4a7d510",
   "metadata": {},
   "outputs": [],
   "source": []
  }
 ],
 "metadata": {
  "kernelspec": {
   "display_name": "Python 3 (ipykernel)",
   "language": "python",
   "name": "python3"
  },
  "language_info": {
   "codemirror_mode": {
    "name": "ipython",
    "version": 3
   },
   "file_extension": ".py",
   "mimetype": "text/x-python",
   "name": "python",
   "nbconvert_exporter": "python",
   "pygments_lexer": "ipython3",
   "version": "3.9.6"
  }
 },
 "nbformat": 4,
 "nbformat_minor": 5
}
